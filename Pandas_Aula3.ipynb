{
  "nbformat": 4,
  "nbformat_minor": 0,
  "metadata": {
    "colab": {
      "provenance": [],
      "authorship_tag": "ABX9TyPpoZsQK+pDb4MgOUayEm9J",
      "include_colab_link": true
    },
    "kernelspec": {
      "name": "python3",
      "display_name": "Python 3"
    },
    "language_info": {
      "name": "python"
    }
  },
  "cells": [
    {
      "cell_type": "markdown",
      "metadata": {
        "id": "view-in-github",
        "colab_type": "text"
      },
      "source": [
        "<a href=\"https://colab.research.google.com/github/RafaelRSR/Pandas-Aula3/blob/main/Pandas_Aula3.ipynb\" target=\"_parent\"><img src=\"https://colab.research.google.com/assets/colab-badge.svg\" alt=\"Open In Colab\"/></a>"
      ]
    },
    {
      "cell_type": "markdown",
      "source": [
        "Segundo exemplo utilizando Python Pandas - Inserção de dados, remoção de colunas, merge, gráficos."
      ],
      "metadata": {
        "id": "wQDGmSfTRW-Z"
      }
    },
    {
      "cell_type": "code",
      "execution_count": 1,
      "metadata": {
        "id": "3ZkOD8N9QAJ6"
      },
      "outputs": [],
      "source": [
        "#Importando a biblioteca pandas\n",
        "import pandas as pd"
      ]
    },
    {
      "cell_type": "code",
      "source": [
        "#Atribuição de variável à leitura do excel importado\n",
        "combustiveis_df = pd.read_excel(\"ca-2021-02.xlsx\")\n",
        "\n",
        "display(combustiveis_df)"
      ],
      "metadata": {
        "id": "o0JGOcL4R7sU"
      },
      "execution_count": null,
      "outputs": []
    },
    {
      "cell_type": "code",
      "source": [
        "#Inserção simples de dado\n",
        "combustiveis_df['Ativo'] = True\n",
        "display(combustiveis_df.head())"
      ],
      "metadata": {
        "id": "vB2XgnBvTKDq"
      },
      "execution_count": null,
      "outputs": []
    },
    {
      "cell_type": "code",
      "source": [],
      "metadata": {
        "id": "BgQvOMIQTX2e"
      },
      "execution_count": null,
      "outputs": []
    }
  ]
}